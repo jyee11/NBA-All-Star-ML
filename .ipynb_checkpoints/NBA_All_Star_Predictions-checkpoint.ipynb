{
 "cells": [
  {
   "cell_type": "markdown",
   "metadata": {
    "collapsed": true
   },
   "source": [
    "#Predicting NBA All Stars\n",
    "###Jefferson Yee\n",
    "###September 26th, 2018"
   ]
  },
  {
   "cell_type": "markdown",
   "metadata": {},
   "source": [
    "##Background"
   ]
  },
  {
   "cell_type": "markdown",
   "metadata": {},
   "source": [
    "Every year in the NBA, 12 players from the Western and Eastern Conference (24 players in total) are selected to be a part of by fans and coaches to be an NBA All-Star. For many of the players selected, being an All-Star means realizing a lifelong dream as well as being honored by your peers, coaches, and fans as one of the NBA's top players. \n",
    "\n",
    "However, every year, players who many believe are deserving of an All-Star selection are \"snubbed\" every year. Due to this reason, it can be difficult to predict all stars year in and year out. There have also been calls to reform the selection process which the NBA have done over the years.  \n",
    "\n",
    "This project serves to apply Machine Learning algorithms to see how well we can predict which players will be nominated as All-Stars based on the data provided. "
   ]
  },
  {
   "cell_type": "markdown",
   "metadata": {},
   "source": [
    "##Selection Process"
   ]
  },
  {
   "cell_type": "markdown",
   "metadata": {},
   "source": [
    "The All-Star Selection process has changed over the years to better represent the player who deserve to be selected. NBA All-Stars have seperated into two categories: starters and non-starters. Prior to 2017, NBA All-Star starters were voted in purely based on a fan voting system where the top fan voted players in their respective position were selected as All-Satr starters based on their conference. This changed in 2017 when Zaza Pachulia was nearly voted in as a starter when he was clearly not deserving of an All-Star selection. In 2017, the NBA changed the voting criteria for NBA All-Star starter selection to the following:\n",
    "\n",
    "- 50% Fan Votes\n",
    "- 25% Player Votes\n",
    "- 25% Media Votes\n",
    "\n",
    "Prior to 2013, NBA All-Stars starters were seperated into the following per conference: \n",
    "\n",
    "- 2 Guards\n",
    "- 2 Forwards\n",
    "- 1 Center \n",
    "\n",
    "However, in 2013, the league decided that All-Stars should be seperated based on the following:  \n",
    "\n",
    "- 2 Backcourt Players\n",
    "- 3 Froncourt Players. \n",
    "\n",
    "This new distinction was made to better reflect a changing game of basketball that was predicated on \"pace and space.\""
   ]
  },
  {
   "cell_type": "markdown",
   "metadata": {},
   "source": [
    "##Cleaning the Data"
   ]
  },
  {
   "cell_type": "markdown",
   "metadata": {},
   "source": [
    "Before I imported the data, I loaded the numpy, pandas, seaborn, and matplotlib.pyplot library so that I could properly clean and prep the data."
   ]
  },
  {
   "cell_type": "code",
   "execution_count": 1,
   "metadata": {
    "collapsed": true
   },
   "outputs": [],
   "source": [
    "import numpy as np\n",
    "import pandas as pd"
   ]
  },
  {
   "cell_type": "markdown",
   "metadata": {},
   "source": [
    "For my data, I imported the past 10 seasons (2008 to 2018) of player statistics from https://www.basketball-reference.com/ and appended them into a list to allow for quicker, automated data clean up. I also added a Year variable for each dataset based on which year each NBA season was. "
   ]
  },
  {
   "cell_type": "code",
   "execution_count": 2,
   "metadata": {
    "collapsed": true
   },
   "outputs": [],
   "source": [
    "read_in_data = []\n",
    "file_name = 'Data/nbadata{}.csv'\n",
    "\n",
    "for pos, i in enumerate(range(2008,2019)):\n",
    "    read_in_data.append(pd.read_csv(file_name.format(i)).drop('Rk', axis = 1))\n",
    "    read_in_data[pos]['Year'] = i"
   ]
  },
  {
   "cell_type": "markdown",
   "metadata": {},
   "source": [
    "Before I started cleaning any data, I first did some data exploration to see what needed to be cleaned. I examined the 2008 dataset as a baseline."
   ]
  },
  {
   "cell_type": "code",
   "execution_count": 3,
   "metadata": {},
   "outputs": [
    {
     "data": {
      "text/html": [
       "<div>\n",
       "<style>\n",
       "    .dataframe thead tr:only-child th {\n",
       "        text-align: right;\n",
       "    }\n",
       "\n",
       "    .dataframe thead th {\n",
       "        text-align: left;\n",
       "    }\n",
       "\n",
       "    .dataframe tbody tr th {\n",
       "        vertical-align: top;\n",
       "    }\n",
       "</style>\n",
       "<table border=\"1\" class=\"dataframe\">\n",
       "  <thead>\n",
       "    <tr style=\"text-align: right;\">\n",
       "      <th></th>\n",
       "      <th>Player</th>\n",
       "      <th>Pos</th>\n",
       "      <th>Age</th>\n",
       "      <th>Tm</th>\n",
       "      <th>G</th>\n",
       "      <th>GS</th>\n",
       "      <th>MP</th>\n",
       "      <th>FG</th>\n",
       "      <th>FGA</th>\n",
       "      <th>FG%</th>\n",
       "      <th>...</th>\n",
       "      <th>ORB</th>\n",
       "      <th>DRB</th>\n",
       "      <th>TRB</th>\n",
       "      <th>AST</th>\n",
       "      <th>STL</th>\n",
       "      <th>BLK</th>\n",
       "      <th>TOV</th>\n",
       "      <th>PF</th>\n",
       "      <th>PS/G</th>\n",
       "      <th>Year</th>\n",
       "    </tr>\n",
       "  </thead>\n",
       "  <tbody>\n",
       "    <tr>\n",
       "      <th>0</th>\n",
       "      <td>Shareef Abdur-Rahim</td>\n",
       "      <td>PF</td>\n",
       "      <td>31</td>\n",
       "      <td>SAC</td>\n",
       "      <td>6</td>\n",
       "      <td>0</td>\n",
       "      <td>8.5</td>\n",
       "      <td>0.5</td>\n",
       "      <td>2.3</td>\n",
       "      <td>0.214</td>\n",
       "      <td>...</td>\n",
       "      <td>1.0</td>\n",
       "      <td>0.7</td>\n",
       "      <td>1.7</td>\n",
       "      <td>0.7</td>\n",
       "      <td>0.2</td>\n",
       "      <td>0.0</td>\n",
       "      <td>0.2</td>\n",
       "      <td>1.5</td>\n",
       "      <td>1.7</td>\n",
       "      <td>2008</td>\n",
       "    </tr>\n",
       "    <tr>\n",
       "      <th>1</th>\n",
       "      <td>Arron Afflalo</td>\n",
       "      <td>SG</td>\n",
       "      <td>22</td>\n",
       "      <td>DET</td>\n",
       "      <td>75</td>\n",
       "      <td>9</td>\n",
       "      <td>12.9</td>\n",
       "      <td>1.3</td>\n",
       "      <td>3.2</td>\n",
       "      <td>0.411</td>\n",
       "      <td>...</td>\n",
       "      <td>0.5</td>\n",
       "      <td>1.3</td>\n",
       "      <td>1.8</td>\n",
       "      <td>0.7</td>\n",
       "      <td>0.4</td>\n",
       "      <td>0.1</td>\n",
       "      <td>0.5</td>\n",
       "      <td>1.1</td>\n",
       "      <td>3.7</td>\n",
       "      <td>2008</td>\n",
       "    </tr>\n",
       "    <tr>\n",
       "      <th>2</th>\n",
       "      <td>Maurice Ager</td>\n",
       "      <td>SG</td>\n",
       "      <td>23</td>\n",
       "      <td>TOT</td>\n",
       "      <td>26</td>\n",
       "      <td>3</td>\n",
       "      <td>6.3</td>\n",
       "      <td>0.8</td>\n",
       "      <td>2.5</td>\n",
       "      <td>0.323</td>\n",
       "      <td>...</td>\n",
       "      <td>0.2</td>\n",
       "      <td>0.3</td>\n",
       "      <td>0.5</td>\n",
       "      <td>0.3</td>\n",
       "      <td>0.0</td>\n",
       "      <td>0.0</td>\n",
       "      <td>0.2</td>\n",
       "      <td>0.7</td>\n",
       "      <td>2.0</td>\n",
       "      <td>2008</td>\n",
       "    </tr>\n",
       "    <tr>\n",
       "      <th>3</th>\n",
       "      <td>Blake Ahearn</td>\n",
       "      <td>PG</td>\n",
       "      <td>23</td>\n",
       "      <td>MIA</td>\n",
       "      <td>12</td>\n",
       "      <td>0</td>\n",
       "      <td>14.8</td>\n",
       "      <td>1.3</td>\n",
       "      <td>4.8</td>\n",
       "      <td>0.263</td>\n",
       "      <td>...</td>\n",
       "      <td>0.1</td>\n",
       "      <td>1.5</td>\n",
       "      <td>1.6</td>\n",
       "      <td>1.6</td>\n",
       "      <td>0.5</td>\n",
       "      <td>0.0</td>\n",
       "      <td>1.3</td>\n",
       "      <td>1.7</td>\n",
       "      <td>5.8</td>\n",
       "      <td>2008</td>\n",
       "    </tr>\n",
       "    <tr>\n",
       "      <th>4</th>\n",
       "      <td>LaMarcus Aldridge</td>\n",
       "      <td>PF</td>\n",
       "      <td>22</td>\n",
       "      <td>POR</td>\n",
       "      <td>76</td>\n",
       "      <td>76</td>\n",
       "      <td>34.9</td>\n",
       "      <td>7.4</td>\n",
       "      <td>15.3</td>\n",
       "      <td>0.484</td>\n",
       "      <td>...</td>\n",
       "      <td>2.9</td>\n",
       "      <td>4.7</td>\n",
       "      <td>7.6</td>\n",
       "      <td>1.6</td>\n",
       "      <td>0.7</td>\n",
       "      <td>1.2</td>\n",
       "      <td>1.7</td>\n",
       "      <td>3.2</td>\n",
       "      <td>17.8</td>\n",
       "      <td>2008</td>\n",
       "    </tr>\n",
       "    <tr>\n",
       "      <th>5</th>\n",
       "      <td>Malik Allen</td>\n",
       "      <td>PF</td>\n",
       "      <td>29</td>\n",
       "      <td>TOT</td>\n",
       "      <td>73</td>\n",
       "      <td>16</td>\n",
       "      <td>15.0</td>\n",
       "      <td>2.2</td>\n",
       "      <td>4.5</td>\n",
       "      <td>0.480</td>\n",
       "      <td>...</td>\n",
       "      <td>0.9</td>\n",
       "      <td>1.8</td>\n",
       "      <td>2.7</td>\n",
       "      <td>0.6</td>\n",
       "      <td>0.3</td>\n",
       "      <td>0.4</td>\n",
       "      <td>0.6</td>\n",
       "      <td>2.0</td>\n",
       "      <td>4.6</td>\n",
       "      <td>2008</td>\n",
       "    </tr>\n",
       "    <tr>\n",
       "      <th>6</th>\n",
       "      <td>Ray Allen</td>\n",
       "      <td>SG</td>\n",
       "      <td>32</td>\n",
       "      <td>BOS</td>\n",
       "      <td>73</td>\n",
       "      <td>73</td>\n",
       "      <td>35.9</td>\n",
       "      <td>6.0</td>\n",
       "      <td>13.5</td>\n",
       "      <td>0.445</td>\n",
       "      <td>...</td>\n",
       "      <td>1.0</td>\n",
       "      <td>2.6</td>\n",
       "      <td>3.7</td>\n",
       "      <td>3.1</td>\n",
       "      <td>0.9</td>\n",
       "      <td>0.2</td>\n",
       "      <td>1.7</td>\n",
       "      <td>2.0</td>\n",
       "      <td>17.4</td>\n",
       "      <td>2008</td>\n",
       "    </tr>\n",
       "    <tr>\n",
       "      <th>7</th>\n",
       "      <td>Tony Allen</td>\n",
       "      <td>SG</td>\n",
       "      <td>26</td>\n",
       "      <td>BOS</td>\n",
       "      <td>75</td>\n",
       "      <td>11</td>\n",
       "      <td>18.3</td>\n",
       "      <td>2.3</td>\n",
       "      <td>5.2</td>\n",
       "      <td>0.434</td>\n",
       "      <td>...</td>\n",
       "      <td>0.5</td>\n",
       "      <td>1.8</td>\n",
       "      <td>2.2</td>\n",
       "      <td>1.5</td>\n",
       "      <td>0.8</td>\n",
       "      <td>0.3</td>\n",
       "      <td>1.5</td>\n",
       "      <td>2.2</td>\n",
       "      <td>6.6</td>\n",
       "      <td>2008</td>\n",
       "    </tr>\n",
       "    <tr>\n",
       "      <th>8</th>\n",
       "      <td>Lance Allred</td>\n",
       "      <td>C</td>\n",
       "      <td>26</td>\n",
       "      <td>CLE</td>\n",
       "      <td>3</td>\n",
       "      <td>0</td>\n",
       "      <td>3.3</td>\n",
       "      <td>0.3</td>\n",
       "      <td>1.3</td>\n",
       "      <td>0.250</td>\n",
       "      <td>...</td>\n",
       "      <td>0.0</td>\n",
       "      <td>0.3</td>\n",
       "      <td>0.3</td>\n",
       "      <td>0.0</td>\n",
       "      <td>0.0</td>\n",
       "      <td>0.0</td>\n",
       "      <td>0.0</td>\n",
       "      <td>0.3</td>\n",
       "      <td>1.0</td>\n",
       "      <td>2008</td>\n",
       "    </tr>\n",
       "    <tr>\n",
       "      <th>9</th>\n",
       "      <td>Morris Almond</td>\n",
       "      <td>SG</td>\n",
       "      <td>22</td>\n",
       "      <td>UTA</td>\n",
       "      <td>9</td>\n",
       "      <td>0</td>\n",
       "      <td>4.3</td>\n",
       "      <td>0.4</td>\n",
       "      <td>1.7</td>\n",
       "      <td>0.267</td>\n",
       "      <td>...</td>\n",
       "      <td>0.0</td>\n",
       "      <td>0.2</td>\n",
       "      <td>0.2</td>\n",
       "      <td>0.3</td>\n",
       "      <td>0.1</td>\n",
       "      <td>0.0</td>\n",
       "      <td>0.2</td>\n",
       "      <td>0.6</td>\n",
       "      <td>1.4</td>\n",
       "      <td>2008</td>\n",
       "    </tr>\n",
       "  </tbody>\n",
       "</table>\n",
       "<p>10 rows × 30 columns</p>\n",
       "</div>"
      ],
      "text/plain": [
       "                Player Pos  Age   Tm   G  GS    MP   FG   FGA    FG%  ...   \\\n",
       "0  Shareef Abdur-Rahim  PF   31  SAC   6   0   8.5  0.5   2.3  0.214  ...    \n",
       "1        Arron Afflalo  SG   22  DET  75   9  12.9  1.3   3.2  0.411  ...    \n",
       "2         Maurice Ager  SG   23  TOT  26   3   6.3  0.8   2.5  0.323  ...    \n",
       "3         Blake Ahearn  PG   23  MIA  12   0  14.8  1.3   4.8  0.263  ...    \n",
       "4    LaMarcus Aldridge  PF   22  POR  76  76  34.9  7.4  15.3  0.484  ...    \n",
       "5          Malik Allen  PF   29  TOT  73  16  15.0  2.2   4.5  0.480  ...    \n",
       "6            Ray Allen  SG   32  BOS  73  73  35.9  6.0  13.5  0.445  ...    \n",
       "7           Tony Allen  SG   26  BOS  75  11  18.3  2.3   5.2  0.434  ...    \n",
       "8         Lance Allred   C   26  CLE   3   0   3.3  0.3   1.3  0.250  ...    \n",
       "9        Morris Almond  SG   22  UTA   9   0   4.3  0.4   1.7  0.267  ...    \n",
       "\n",
       "   ORB  DRB  TRB  AST  STL  BLK  TOV   PF  PS/G  Year  \n",
       "0  1.0  0.7  1.7  0.7  0.2  0.0  0.2  1.5   1.7  2008  \n",
       "1  0.5  1.3  1.8  0.7  0.4  0.1  0.5  1.1   3.7  2008  \n",
       "2  0.2  0.3  0.5  0.3  0.0  0.0  0.2  0.7   2.0  2008  \n",
       "3  0.1  1.5  1.6  1.6  0.5  0.0  1.3  1.7   5.8  2008  \n",
       "4  2.9  4.7  7.6  1.6  0.7  1.2  1.7  3.2  17.8  2008  \n",
       "5  0.9  1.8  2.7  0.6  0.3  0.4  0.6  2.0   4.6  2008  \n",
       "6  1.0  2.6  3.7  3.1  0.9  0.2  1.7  2.0  17.4  2008  \n",
       "7  0.5  1.8  2.2  1.5  0.8  0.3  1.5  2.2   6.6  2008  \n",
       "8  0.0  0.3  0.3  0.0  0.0  0.0  0.0  0.3   1.0  2008  \n",
       "9  0.0  0.2  0.2  0.3  0.1  0.0  0.2  0.6   1.4  2008  \n",
       "\n",
       "[10 rows x 30 columns]"
      ]
     },
     "execution_count": 3,
     "metadata": {},
     "output_type": "execute_result"
    }
   ],
   "source": [
    "read_in_data[0].head(10)"
   ]
  },
  {
   "cell_type": "code",
   "execution_count": 4,
   "metadata": {},
   "outputs": [
    {
     "name": "stdout",
     "output_type": "stream",
     "text": [
      "<class 'pandas.core.frame.DataFrame'>\n",
      "RangeIndex: 451 entries, 0 to 450\n",
      "Data columns (total 30 columns):\n",
      "Player    451 non-null object\n",
      "Pos       451 non-null object\n",
      "Age       451 non-null int64\n",
      "Tm        451 non-null object\n",
      "G         451 non-null int64\n",
      "GS        451 non-null int64\n",
      "MP        451 non-null float64\n",
      "FG        451 non-null float64\n",
      "FGA       451 non-null float64\n",
      "FG%       451 non-null float64\n",
      "3P        451 non-null float64\n",
      "3PA       451 non-null float64\n",
      "3P%       373 non-null float64\n",
      "2P        451 non-null float64\n",
      "2PA       451 non-null float64\n",
      "2P%       451 non-null float64\n",
      "eFG%      451 non-null float64\n",
      "FT        451 non-null float64\n",
      "FTA       451 non-null float64\n",
      "FT%       440 non-null float64\n",
      "ORB       451 non-null float64\n",
      "DRB       451 non-null float64\n",
      "TRB       451 non-null float64\n",
      "AST       451 non-null float64\n",
      "STL       451 non-null float64\n",
      "BLK       451 non-null float64\n",
      "TOV       451 non-null float64\n",
      "PF        451 non-null float64\n",
      "PS/G      451 non-null float64\n",
      "Year      451 non-null int64\n",
      "dtypes: float64(23), int64(4), object(3)\n",
      "memory usage: 105.8+ KB\n"
     ]
    }
   ],
   "source": [
    "read_in_data[0].info()"
   ]
  },
  {
   "cell_type": "markdown",
   "metadata": {},
   "source": [
    "In the for loop below, I filled all NaN values with zeros as missing stats for a player can and should be properly represented as zeros. The Points Per Game variable was changed from \"PS/G\" to \"PPG\" and the cleaned data was inputted into another list. "
   ]
  },
  {
   "cell_type": "code",
   "execution_count": 5,
   "metadata": {
    "collapsed": true
   },
   "outputs": [],
   "source": [
    "clean_data = []\n",
    "\n",
    "for data in read_in_data:\n",
    "    na_fix = data.fillna(0)\n",
    "    ppg_fix = na_fix.rename(index = str, columns ={\"PS/G\" : \"PPG\"})\n",
    "\n",
    "    clean_data.append(ppg_fix)\n"
   ]
  },
  {
   "cell_type": "markdown",
   "metadata": {},
   "source": [
    "Because an All-Star designation was not included in the dataset I imported, I had to manually create the All-Star variable. "
   ]
  },
  {
   "cell_type": "code",
   "execution_count": 6,
   "metadata": {
    "collapsed": true
   },
   "outputs": [],
   "source": [
    "all_stars2008 = [\"Allen Iverson\", \"Kobe Bryant\", \"Carmelo Anthony\", \"Tim Duncan\", \"Yao Ming\", \n",
    "                 \"Carlos Boozer\", \"Steve Nash\", \"Dirk Nowitzki\", \"Chris Paul\", \"Brandon Roy\", \n",
    "                 \"Amar'e Stoudemire\", \"David West\", \"Jason Kidd\", \"Dwyane Wade\", \"LeBron James\", \n",
    "                 \"Kevin Garnett\", \"Dwight Howard\", \"Ray Allen\", \"Chauncey Billups\", \"Caron Butler\", \n",
    "                 \"Chris Bosh\", \"Richard Hamilton\", \"Antawn Jamison\", \"Joe Johnson\", \"Paul Pierce\", \n",
    "                 \"Rasheed Wallace\"]\n",
    "\n",
    "all_stars2009 = [\"Allen Iverson\", \"Dwyane Wade\", \"LeBron James\", \"Kevin Garnett\", \"Dwight Howard\", \n",
    "                 \"Ray Allen\", \"Devin Harris\", \"Joe Johnson\", \"Jameer Nelson\", \"Mo Williams\", \n",
    "                 \"Danny Granger\", \"Rashard Lewis\", \"Paul Pierce\", \"Chris Bosh\", \"Chris Paul\", \n",
    "                 \"Kobe Bryant\", \"Amar'e Stoudemire\", \"Tim Duncan\",\"Yao Ming\", \"Chauncey Billups\", \n",
    "                 \"Tony Parker\", \"Brandon Roy\", \"Pau Gasol\", \"Dirk Nowitzki\", \n",
    "              \"David West\", \"Shaquille O'Neal\"]\n",
    "\n",
    "all_stars2010 = [\"Allen Iverson\", \"Dwyane Wade\", \"LeBron James\", \"Kevin Garnett\", \"Dwight Howard\", \n",
    "                 \"Joe Johnson\", \"Rajon Rondo\", \"Derrick Rose\", \"Paul Pierce\", \"Gerald Wallace\", \n",
    "                 \"Chris Bosh\", \"Al Horford\", \"David Lee\", \"Steve Nash\", \"Kobe Bryant\", \n",
    "                 \"Carmelo Anthony\", \"Tim Duncan\", \"Amar'e Stoudemire\", \"Chauncey Billups\", \n",
    "                 \"Jason Kidd\", \"Chris Paul\", \"Brandon Roy\", \"Deron Williams\", \"Kevin Durant\",\n",
    "                 \"Dirk Nowitzki\", \"Zach Randolph\", \"Pau Gasol\", \"Chris Kaman\"]\n",
    "\n",
    "all_stars2011 = [\"Derrick Rose\", \"Dwyane Wade\", \"LeBron James\", \"Amar'e Stoudemire\", \n",
    "                 \"Dwight Howard\", \"Ray Allen\", \"Chris Bosh\", \"Kevn Garnett\", \"Al Horford\", \n",
    "                 \"Joe Johnson\", \"Paul Pierce\", \"Rajon Rondo\", \"Chris Paul\", \"Kobe Bryant\", \n",
    "                 \"Kevin Durant\", \"Carmelo Anthony\", \"Yao Ming\", \"Tim Duncan\", \"Pau Gasol\", \n",
    "                 \"Manu Ginobili\", \"Blake Griffin\", \"Kevin Love\", \"Dirk Nowitzki\", \n",
    "                 \"Russell Westbrook\", \"Deron Williams\"]\n",
    "\n",
    "all_stars2012 = [\"Chris Paul\", \"Kobe Bryant\", \"Kevin Durant\", \"Blake Griffin\", \"Andrew Bynum\", \n",
    "                 \"LaMarcus Aldridge\", \"Marc Gasol\", \"Kevin Love\", \"Steve Nash\", \"Dirk Nowitzki\", \n",
    "                 \"Tony Parker\", \"Russell Westbrook\", \"Derrick Rose\", \"Dwyane Wade\", \"LeBron James\", \n",
    "                 \"Carmelo Anthony\", \"Dwight Howard\", \"Chris Bosh\", \"Luol Deng\", \"Roy Hibbert\", \n",
    "                 \"Andre Iguodala\", \"Joe Johnson\", \"Paul Pierce\", \"Rajon Rondo\", \"Deron Williams\"]\n",
    "\n",
    "all_stars2013 = [\"Rajon Rondo\", \"Dwyane Wade\", \"LeBron James\", \"Carmelo Anthony\", \"Kevin Garnett\", \n",
    "                 \"Chris Bosh\", \"Tyson Chandler\", \"Luol Deng\", \"Paul George\", \"Jrue Holiday\", \n",
    "                 \"Kyrie Irving\", \"Joakim Noah\", \"Brook Lopez\", \"Chris Paul\", \"Kobe Bryant\", \n",
    "                 \"Kevin Durant\", \"Blake Griffin\", \"Dwight Howard\", \"LaMarcus Aldridge\", \"Tim Duncan\", \n",
    "                 \"James Harden\", \"David Lee\", \"Tony Parker\", \"Zach Randolph\", \"Russell Westbrook\"]\n",
    "\n",
    "all_stars2014 = [\"Dwyane Wade\", \"Kyrie Irving\", \"LeBron James\", \"Paul George\", \"Carmelo Anthony\", \n",
    "                 \"Joakim Noah\", \"Roy Hibbert\", \"Chris Bosh\", \"Paul Millsap\", \"John Wall\", \n",
    "                 \"Joe Johnson\", \"DeMar DeRozan\", \"Stephen Curry\", \"Kobe Bryant\", \"Kevin Durant\", \n",
    "                 \"Blake Griffin\", \"Kevin Love\", \"Dwight Howard\", \"LaMarcus Aldridge\", \"Dirk Nowitzki\", \n",
    "                 \"Chris Paul\", \"James Harden\", \"Tony Parker\", \"Damian Lillard\", \"Anthony Davis\"]\n",
    "\n",
    "all_stars2015 = [\"John Wall\", \"Kyle Lowry\", \"LeBron James\", \"Pau Gasol\", \"Carmelo Anthony\", \n",
    "                 \"Al Horford\", \"Chris Bosh\",\"Paul Millsap\", \"Jimmy Butler\", \"Dwyane Wade\", \n",
    "                 \"Jeff Teague\", \"Kyrie Irving\", \"Kyle Korver\", \"Stephen Curry\", \"Kobe Bryant\", \n",
    "                 \"Anthony Davis\", \"Marc Gasol\", \"Blake Griffin\", \"LaMarcus Aldridge\", \n",
    "                 \"Tim Duncan\", \"Kevin Durant\", \"Klay Thompson\", \"Russell Westbrook\", \n",
    "                 \"James Harden\", \"Chris Paul\",\"DeMarcus Cousins\", \"Damian Lillard\", \n",
    "                 \"Dirk Nowitzki\"]\n",
    "\n",
    "all_stars2016 = [\"LaMarcus Aldridge\", \"Kobe Bryant\", \"DeMarcus Cousins\", \"Stephen Curry\", \n",
    "                 \"Anthony Davis\", \"Kevin Durant\", \"Draymond Green\", \"James Harden\", \n",
    "                 \"Kawhi Leonard\", \"Chris Paul\", \"Klay Thompson\", \"Russell Westbrook\",\n",
    "                 \"Carmelo Anthony\", \"Chris Bosh\", \"Jimmy Butler\", \"DeMar DeRozan\", \n",
    "                 \"Andre Drummond\", \"Pau Gasol\", \"Paul George\",\"Al Horford\", \"LeBron James\", \n",
    "                 \"Kyle Lowry\", \"Paul Millsap\", \"Isaiah Thomas\", \"Dwyane Wade\", \"John Wall\"]\n",
    "\n",
    "all_stars2017 = [\"Giannis Antetokounmpo\", \"Carmelo Anthony\", \"Jimmy Butler\", \"DeMar DeRozan\", \n",
    "                 \"Paul George\", \"Kyrie Irving\", \"LeBron James\", \"Kevin Love\", \"Kyle Lowry\", \n",
    "                 \"Paul Millsap\", \"Isaiah Thomas\", \"Kemba Walker\", \"John Wall\", \"DeMarcus Cousins\", \n",
    "                 \"Stephen Curry\", \"Anthony Davis\", \"Kevin Durant\", \"Marc Gasol\", \"Draymond Green\", \n",
    "                 \"James Harden\", \"Gordon Hayward\", \"DeAndre Jordan\", \"Kawhi Leonard\", \"Klay Thompson\", \n",
    "                 \"Russell Westbrook\"]\n",
    "                \n",
    "all_stars2018 = [\"DeMarcus Cousins\", \"Anthony Davis\", \"Kevin Durant\", \"Kyrie Irving\", \"LeBron James\", \n",
    "                 \"LaMarcus Aldridge\", \"Bradley Beal\", \"Goran Dragic\", \"Andre Drummond\", \"Paul George\", \n",
    "                 \"Kevin Love\", \"Victor Oladipo\", \"Kristaps Porzingis\", \"Kemba Walker\", \"John Wall\", \n",
    "                 \"Russell Westbrook\", \"Giannis Antetokounmpo\", \"Stephen Curry\", \"DeMar DeRozan\", \n",
    "                 \"Joel Embiid\", \"James Harden\", \"Jimmy Butler\", \"Draymond Green\", \"Al Horford\", \n",
    "                 \"Damian Lillard\", \"Kyle Lowry\", \"Klay Thompson\", \"Karl-Anthony Towns\"]\n",
    "\n",
    "all_stars = [all_stars2008, all_stars2009, all_stars2010, all_stars2011, all_stars2012, all_stars2013, \n",
    "             all_stars2014, all_stars2015, all_stars2016, all_stars2017, all_stars2018, ]"
   ]
  },
  {
   "cell_type": "markdown",
   "metadata": {},
   "source": [
    "The code below adds the All-Star variable to each of the 10 datasets for the 10 NBA seasons."
   ]
  },
  {
   "cell_type": "code",
   "execution_count": 7,
   "metadata": {
    "collapsed": true
   },
   "outputs": [],
   "source": [
    "def add_all_stars(data, as_list):\n",
    "    if data.Player in as_list:\n",
    "        return 1\n",
    "    else:\n",
    "        return 0\n",
    "\n",
    "for data, allstar in zip(clean_data, all_stars):\n",
    "    data['All_Star'] = data.apply(add_all_stars, axis = 1, as_list = allstar)"
   ]
  },
  {
   "cell_type": "markdown",
   "metadata": {},
   "source": [
    "Before proceeding with cleaning the rest of the data, I first combined all the seasons into one large dataset."
   ]
  },
  {
   "cell_type": "code",
   "execution_count": 8,
   "metadata": {
    "collapsed": true
   },
   "outputs": [],
   "source": [
    "final_data = pd.concat(clean_data).reset_index().drop('index', axis = 1)"
   ]
  },
  {
   "cell_type": "markdown",
   "metadata": {},
   "source": [
    "The code below cleans up the Position variable as there are only 5 positions in the NBA: PG, SG, SF, PF, C. For any position listed as \"POS-POS\" the first position was used as that position designates that a player spends the most time playing that position."
   ]
  },
  {
   "cell_type": "code",
   "execution_count": 9,
   "metadata": {},
   "outputs": [
    {
     "data": {
      "text/plain": [
       "Index(['C', 'C-PF', 'C-SF', 'PF', 'PF-C', 'PF-SF', 'PG', 'PG-SG', 'SF',\n",
       "       'SF-PF', 'SF-SG', 'SG', 'SG-PF', 'SG-PG', 'SG-SF'],\n",
       "      dtype='object')"
      ]
     },
     "execution_count": 9,
     "metadata": {},
     "output_type": "execute_result"
    }
   ],
   "source": [
    "final_data.Pos = final_data.Pos.astype('category')\n",
    "final_data.Pos.cat.categories"
   ]
  },
  {
   "cell_type": "code",
   "execution_count": 10,
   "metadata": {
    "collapsed": true
   },
   "outputs": [],
   "source": [
    "def position_fix(data):\n",
    "    if data.Pos == 'C-PF' or data.Pos == 'C-SF':\n",
    "        return 'C'\n",
    "    elif data.Pos == 'PF-C' or data.Pos == 'PF-SF':\n",
    "        return 'PF'\n",
    "    elif data.Pos == 'PG-SG':\n",
    "        return 'PG'\n",
    "    elif data.Pos == 'SF-PF' or data.Pos == 'SF-SG':\n",
    "        return 'SF'\n",
    "    elif data.Pos == 'SG-PF' or data.Pos == 'SG-PG' or data.Pos == 'SG-SF':\n",
    "        return 'SG'\n",
    "    else:\n",
    "        return data.Pos\n",
    "\n",
    "final_data.Pos = final_data.apply(position_fix, axis = 1)    \n",
    "final_data.Pos = final_data.Pos.astype('category')"
   ]
  },
  {
   "cell_type": "markdown",
   "metadata": {},
   "source": [
    "In my final step in data cleaning, I set and sorted the indexes of the data by Year and Player while also coding the Position variable. "
   ]
  },
  {
   "cell_type": "code",
   "execution_count": 11,
   "metadata": {
    "collapsed": true
   },
   "outputs": [],
   "source": [
    "final_data.set_index(['Year', 'Player'], inplace = True)\n",
    "final_data.sort_index(level = ('Year', 'Player'), inplace = True)"
   ]
  },
  {
   "cell_type": "code",
   "execution_count": 12,
   "metadata": {
    "collapsed": true
   },
   "outputs": [],
   "source": [
    "non_num_fix = {\"Pos\" : {\"PG\": 1, \"SG\": 2, \"SF\": 3, \"PF\": 4, \"C\":5}}\n",
    "final_data.replace(non_num_fix, inplace = True)"
   ]
  },
  {
   "cell_type": "markdown",
   "metadata": {},
   "source": [
    "Now that all of the data is clean, the data is separated into the input matrix containing the variables and the labeled output. I also wrote out the data so that it can be viewed separately."
   ]
  },
  {
   "cell_type": "code",
   "execution_count": 13,
   "metadata": {
    "collapsed": true
   },
   "outputs": [],
   "source": [
    "final_data.to_excel(\"Data/nba_all_star_data.xlsx\")"
   ]
  },
  {
   "cell_type": "code",
   "execution_count": 14,
   "metadata": {},
   "outputs": [
    {
     "data": {
      "text/html": [
       "<div>\n",
       "<style>\n",
       "    .dataframe thead tr:only-child th {\n",
       "        text-align: right;\n",
       "    }\n",
       "\n",
       "    .dataframe thead th {\n",
       "        text-align: left;\n",
       "    }\n",
       "\n",
       "    .dataframe tbody tr th {\n",
       "        vertical-align: top;\n",
       "    }\n",
       "</style>\n",
       "<table border=\"1\" class=\"dataframe\">\n",
       "  <thead>\n",
       "    <tr style=\"text-align: right;\">\n",
       "      <th></th>\n",
       "      <th></th>\n",
       "      <th>Pos</th>\n",
       "      <th>Age</th>\n",
       "      <th>Tm</th>\n",
       "      <th>G</th>\n",
       "      <th>GS</th>\n",
       "      <th>MP</th>\n",
       "      <th>FG</th>\n",
       "      <th>FGA</th>\n",
       "      <th>FG%</th>\n",
       "      <th>3P</th>\n",
       "      <th>...</th>\n",
       "      <th>ORB</th>\n",
       "      <th>DRB</th>\n",
       "      <th>TRB</th>\n",
       "      <th>AST</th>\n",
       "      <th>STL</th>\n",
       "      <th>BLK</th>\n",
       "      <th>TOV</th>\n",
       "      <th>PF</th>\n",
       "      <th>PPG</th>\n",
       "      <th>All_Star</th>\n",
       "    </tr>\n",
       "    <tr>\n",
       "      <th>Year</th>\n",
       "      <th>Player</th>\n",
       "      <th></th>\n",
       "      <th></th>\n",
       "      <th></th>\n",
       "      <th></th>\n",
       "      <th></th>\n",
       "      <th></th>\n",
       "      <th></th>\n",
       "      <th></th>\n",
       "      <th></th>\n",
       "      <th></th>\n",
       "      <th></th>\n",
       "      <th></th>\n",
       "      <th></th>\n",
       "      <th></th>\n",
       "      <th></th>\n",
       "      <th></th>\n",
       "      <th></th>\n",
       "      <th></th>\n",
       "      <th></th>\n",
       "      <th></th>\n",
       "      <th></th>\n",
       "    </tr>\n",
       "  </thead>\n",
       "  <tbody>\n",
       "    <tr>\n",
       "      <th rowspan=\"10\" valign=\"top\">2008</th>\n",
       "      <th>Aaron Brooks</th>\n",
       "      <td>1</td>\n",
       "      <td>23</td>\n",
       "      <td>HOU</td>\n",
       "      <td>51</td>\n",
       "      <td>0</td>\n",
       "      <td>11.9</td>\n",
       "      <td>1.8</td>\n",
       "      <td>4.4</td>\n",
       "      <td>0.413</td>\n",
       "      <td>0.7</td>\n",
       "      <td>...</td>\n",
       "      <td>0.3</td>\n",
       "      <td>0.8</td>\n",
       "      <td>1.1</td>\n",
       "      <td>1.7</td>\n",
       "      <td>0.3</td>\n",
       "      <td>0.1</td>\n",
       "      <td>0.9</td>\n",
       "      <td>1.4</td>\n",
       "      <td>5.2</td>\n",
       "      <td>0</td>\n",
       "    </tr>\n",
       "    <tr>\n",
       "      <th>Aaron Gray</th>\n",
       "      <td>5</td>\n",
       "      <td>23</td>\n",
       "      <td>CHI</td>\n",
       "      <td>61</td>\n",
       "      <td>1</td>\n",
       "      <td>10.0</td>\n",
       "      <td>1.7</td>\n",
       "      <td>3.3</td>\n",
       "      <td>0.505</td>\n",
       "      <td>0.0</td>\n",
       "      <td>...</td>\n",
       "      <td>1.1</td>\n",
       "      <td>1.6</td>\n",
       "      <td>2.8</td>\n",
       "      <td>0.7</td>\n",
       "      <td>0.3</td>\n",
       "      <td>0.3</td>\n",
       "      <td>0.9</td>\n",
       "      <td>1.9</td>\n",
       "      <td>4.3</td>\n",
       "      <td>0</td>\n",
       "    </tr>\n",
       "    <tr>\n",
       "      <th>Aaron Williams</th>\n",
       "      <td>5</td>\n",
       "      <td>36</td>\n",
       "      <td>LAC</td>\n",
       "      <td>30</td>\n",
       "      <td>5</td>\n",
       "      <td>9.9</td>\n",
       "      <td>0.9</td>\n",
       "      <td>1.8</td>\n",
       "      <td>0.491</td>\n",
       "      <td>0.0</td>\n",
       "      <td>...</td>\n",
       "      <td>0.5</td>\n",
       "      <td>1.5</td>\n",
       "      <td>2.0</td>\n",
       "      <td>0.3</td>\n",
       "      <td>0.4</td>\n",
       "      <td>0.5</td>\n",
       "      <td>0.4</td>\n",
       "      <td>1.5</td>\n",
       "      <td>2.3</td>\n",
       "      <td>0</td>\n",
       "    </tr>\n",
       "    <tr>\n",
       "      <th>Acie Law</th>\n",
       "      <td>1</td>\n",
       "      <td>23</td>\n",
       "      <td>ATL</td>\n",
       "      <td>56</td>\n",
       "      <td>6</td>\n",
       "      <td>15.4</td>\n",
       "      <td>1.7</td>\n",
       "      <td>4.2</td>\n",
       "      <td>0.401</td>\n",
       "      <td>0.1</td>\n",
       "      <td>...</td>\n",
       "      <td>0.2</td>\n",
       "      <td>0.8</td>\n",
       "      <td>1.0</td>\n",
       "      <td>2.0</td>\n",
       "      <td>0.5</td>\n",
       "      <td>0.0</td>\n",
       "      <td>1.0</td>\n",
       "      <td>1.3</td>\n",
       "      <td>4.2</td>\n",
       "      <td>0</td>\n",
       "    </tr>\n",
       "    <tr>\n",
       "      <th>Adonal Foyle</th>\n",
       "      <td>5</td>\n",
       "      <td>32</td>\n",
       "      <td>ORL</td>\n",
       "      <td>82</td>\n",
       "      <td>0</td>\n",
       "      <td>9.4</td>\n",
       "      <td>0.9</td>\n",
       "      <td>1.9</td>\n",
       "      <td>0.458</td>\n",
       "      <td>0.0</td>\n",
       "      <td>...</td>\n",
       "      <td>0.9</td>\n",
       "      <td>1.7</td>\n",
       "      <td>2.5</td>\n",
       "      <td>0.2</td>\n",
       "      <td>0.2</td>\n",
       "      <td>0.5</td>\n",
       "      <td>0.4</td>\n",
       "      <td>1.1</td>\n",
       "      <td>1.9</td>\n",
       "      <td>0</td>\n",
       "    </tr>\n",
       "    <tr>\n",
       "      <th>Adrian Griffin</th>\n",
       "      <td>2</td>\n",
       "      <td>33</td>\n",
       "      <td>TOT</td>\n",
       "      <td>35</td>\n",
       "      <td>2</td>\n",
       "      <td>8.8</td>\n",
       "      <td>0.9</td>\n",
       "      <td>2.2</td>\n",
       "      <td>0.395</td>\n",
       "      <td>0.0</td>\n",
       "      <td>...</td>\n",
       "      <td>0.8</td>\n",
       "      <td>0.9</td>\n",
       "      <td>1.7</td>\n",
       "      <td>0.8</td>\n",
       "      <td>0.5</td>\n",
       "      <td>0.1</td>\n",
       "      <td>0.6</td>\n",
       "      <td>0.8</td>\n",
       "      <td>1.9</td>\n",
       "      <td>0</td>\n",
       "    </tr>\n",
       "    <tr>\n",
       "      <th>Al Harrington</th>\n",
       "      <td>5</td>\n",
       "      <td>27</td>\n",
       "      <td>GSW</td>\n",
       "      <td>81</td>\n",
       "      <td>59</td>\n",
       "      <td>27.0</td>\n",
       "      <td>5.0</td>\n",
       "      <td>11.4</td>\n",
       "      <td>0.434</td>\n",
       "      <td>1.9</td>\n",
       "      <td>...</td>\n",
       "      <td>1.3</td>\n",
       "      <td>4.1</td>\n",
       "      <td>5.4</td>\n",
       "      <td>1.6</td>\n",
       "      <td>0.9</td>\n",
       "      <td>0.2</td>\n",
       "      <td>1.1</td>\n",
       "      <td>3.3</td>\n",
       "      <td>13.6</td>\n",
       "      <td>0</td>\n",
       "    </tr>\n",
       "    <tr>\n",
       "      <th>Al Horford</th>\n",
       "      <td>5</td>\n",
       "      <td>21</td>\n",
       "      <td>ATL</td>\n",
       "      <td>81</td>\n",
       "      <td>77</td>\n",
       "      <td>31.4</td>\n",
       "      <td>4.1</td>\n",
       "      <td>8.2</td>\n",
       "      <td>0.499</td>\n",
       "      <td>0.0</td>\n",
       "      <td>...</td>\n",
       "      <td>3.1</td>\n",
       "      <td>6.6</td>\n",
       "      <td>9.7</td>\n",
       "      <td>1.5</td>\n",
       "      <td>0.7</td>\n",
       "      <td>0.9</td>\n",
       "      <td>1.7</td>\n",
       "      <td>3.3</td>\n",
       "      <td>10.1</td>\n",
       "      <td>0</td>\n",
       "    </tr>\n",
       "    <tr>\n",
       "      <th>Al Jefferson</th>\n",
       "      <td>5</td>\n",
       "      <td>23</td>\n",
       "      <td>MIN</td>\n",
       "      <td>82</td>\n",
       "      <td>82</td>\n",
       "      <td>35.6</td>\n",
       "      <td>8.8</td>\n",
       "      <td>17.6</td>\n",
       "      <td>0.500</td>\n",
       "      <td>0.0</td>\n",
       "      <td>...</td>\n",
       "      <td>3.8</td>\n",
       "      <td>7.4</td>\n",
       "      <td>11.1</td>\n",
       "      <td>1.4</td>\n",
       "      <td>0.9</td>\n",
       "      <td>1.5</td>\n",
       "      <td>2.0</td>\n",
       "      <td>2.7</td>\n",
       "      <td>21.0</td>\n",
       "      <td>0</td>\n",
       "    </tr>\n",
       "    <tr>\n",
       "      <th>Al Thornton</th>\n",
       "      <td>4</td>\n",
       "      <td>24</td>\n",
       "      <td>LAC</td>\n",
       "      <td>79</td>\n",
       "      <td>31</td>\n",
       "      <td>27.3</td>\n",
       "      <td>4.7</td>\n",
       "      <td>11.0</td>\n",
       "      <td>0.429</td>\n",
       "      <td>0.5</td>\n",
       "      <td>...</td>\n",
       "      <td>1.2</td>\n",
       "      <td>3.3</td>\n",
       "      <td>4.5</td>\n",
       "      <td>1.2</td>\n",
       "      <td>0.6</td>\n",
       "      <td>0.5</td>\n",
       "      <td>1.6</td>\n",
       "      <td>2.5</td>\n",
       "      <td>12.7</td>\n",
       "      <td>0</td>\n",
       "    </tr>\n",
       "  </tbody>\n",
       "</table>\n",
       "<p>10 rows × 29 columns</p>\n",
       "</div>"
      ],
      "text/plain": [
       "                     Pos  Age   Tm   G  GS    MP   FG   FGA    FG%   3P  \\\n",
       "Year Player                                                               \n",
       "2008 Aaron Brooks      1   23  HOU  51   0  11.9  1.8   4.4  0.413  0.7   \n",
       "     Aaron Gray        5   23  CHI  61   1  10.0  1.7   3.3  0.505  0.0   \n",
       "     Aaron Williams    5   36  LAC  30   5   9.9  0.9   1.8  0.491  0.0   \n",
       "     Acie Law          1   23  ATL  56   6  15.4  1.7   4.2  0.401  0.1   \n",
       "     Adonal Foyle      5   32  ORL  82   0   9.4  0.9   1.9  0.458  0.0   \n",
       "     Adrian Griffin    2   33  TOT  35   2   8.8  0.9   2.2  0.395  0.0   \n",
       "     Al Harrington     5   27  GSW  81  59  27.0  5.0  11.4  0.434  1.9   \n",
       "     Al Horford        5   21  ATL  81  77  31.4  4.1   8.2  0.499  0.0   \n",
       "     Al Jefferson      5   23  MIN  82  82  35.6  8.8  17.6  0.500  0.0   \n",
       "     Al Thornton       4   24  LAC  79  31  27.3  4.7  11.0  0.429  0.5   \n",
       "\n",
       "                       ...     ORB  DRB   TRB  AST  STL  BLK  TOV   PF   PPG  \\\n",
       "Year Player            ...                                                     \n",
       "2008 Aaron Brooks      ...     0.3  0.8   1.1  1.7  0.3  0.1  0.9  1.4   5.2   \n",
       "     Aaron Gray        ...     1.1  1.6   2.8  0.7  0.3  0.3  0.9  1.9   4.3   \n",
       "     Aaron Williams    ...     0.5  1.5   2.0  0.3  0.4  0.5  0.4  1.5   2.3   \n",
       "     Acie Law          ...     0.2  0.8   1.0  2.0  0.5  0.0  1.0  1.3   4.2   \n",
       "     Adonal Foyle      ...     0.9  1.7   2.5  0.2  0.2  0.5  0.4  1.1   1.9   \n",
       "     Adrian Griffin    ...     0.8  0.9   1.7  0.8  0.5  0.1  0.6  0.8   1.9   \n",
       "     Al Harrington     ...     1.3  4.1   5.4  1.6  0.9  0.2  1.1  3.3  13.6   \n",
       "     Al Horford        ...     3.1  6.6   9.7  1.5  0.7  0.9  1.7  3.3  10.1   \n",
       "     Al Jefferson      ...     3.8  7.4  11.1  1.4  0.9  1.5  2.0  2.7  21.0   \n",
       "     Al Thornton       ...     1.2  3.3   4.5  1.2  0.6  0.5  1.6  2.5  12.7   \n",
       "\n",
       "                     All_Star  \n",
       "Year Player                    \n",
       "2008 Aaron Brooks           0  \n",
       "     Aaron Gray             0  \n",
       "     Aaron Williams         0  \n",
       "     Acie Law               0  \n",
       "     Adonal Foyle           0  \n",
       "     Adrian Griffin         0  \n",
       "     Al Harrington          0  \n",
       "     Al Horford             0  \n",
       "     Al Jefferson           0  \n",
       "     Al Thornton            0  \n",
       "\n",
       "[10 rows x 29 columns]"
      ]
     },
     "execution_count": 14,
     "metadata": {},
     "output_type": "execute_result"
    }
   ],
   "source": [
    "final_data.head(10)"
   ]
  },
  {
   "cell_type": "code",
   "execution_count": 15,
   "metadata": {},
   "outputs": [
    {
     "name": "stdout",
     "output_type": "stream",
     "text": [
      "<class 'pandas.core.frame.DataFrame'>\n",
      "MultiIndex: 5213 entries, (2008, Aaron Brooks) to (2018, Zhou Qi)\n",
      "Data columns (total 29 columns):\n",
      "Pos         5213 non-null int64\n",
      "Age         5213 non-null int64\n",
      "Tm          5213 non-null object\n",
      "G           5213 non-null int64\n",
      "GS          5213 non-null int64\n",
      "MP          5213 non-null float64\n",
      "FG          5213 non-null float64\n",
      "FGA         5213 non-null float64\n",
      "FG%         5213 non-null float64\n",
      "3P          5213 non-null float64\n",
      "3PA         5213 non-null float64\n",
      "3P%         5213 non-null float64\n",
      "2P          5213 non-null float64\n",
      "2PA         5213 non-null float64\n",
      "2P%         5213 non-null float64\n",
      "eFG%        5213 non-null float64\n",
      "FT          5213 non-null float64\n",
      "FTA         5213 non-null float64\n",
      "FT%         5213 non-null float64\n",
      "ORB         5213 non-null float64\n",
      "DRB         5213 non-null float64\n",
      "TRB         5213 non-null float64\n",
      "AST         5213 non-null float64\n",
      "STL         5213 non-null float64\n",
      "BLK         5213 non-null float64\n",
      "TOV         5213 non-null float64\n",
      "PF          5213 non-null float64\n",
      "PPG         5213 non-null float64\n",
      "All_Star    5213 non-null int64\n",
      "dtypes: float64(23), int64(5), object(1)\n",
      "memory usage: 1.2+ MB\n"
     ]
    }
   ],
   "source": [
    "final_data.info()"
   ]
  },
  {
   "cell_type": "code",
   "execution_count": 16,
   "metadata": {
    "collapsed": true
   },
   "outputs": [],
   "source": [
    "x = final_data.drop(['Tm','All_Star'], axis = 1).as_matrix()\n",
    "y = np.array(final_data.All_Star)"
   ]
  },
  {
   "cell_type": "code",
   "execution_count": 17,
   "metadata": {
    "collapsed": true
   },
   "outputs": [],
   "source": [
    "from sklearn.model_selection import train_test_split\n",
    "\n",
    "x_train, x_test, y_train, y_test = train_test_split(x, y, test_size = 0.25, random_state = 123)"
   ]
  },
  {
   "cell_type": "markdown",
   "metadata": {},
   "source": [
    "##Model Selection"
   ]
  },
  {
   "cell_type": "markdown",
   "metadata": {},
   "source": [
    "For the machine learning models, I decided to focus on Support Vector Clustering (SVC), Binomial Naive Bayes Classifiers, and Random Forests."
   ]
  },
  {
   "cell_type": "markdown",
   "metadata": {},
   "source": [
    "###Support Vector Clustering"
   ]
  },
  {
   "cell_type": "markdown",
   "metadata": {},
   "source": [
    "Support Vector Clustering (SVC) is a type of supervised learning model that finds a hyperplane that can best divde the dataset into two classes. The hyperplane is designated by the support vectors which are the points that are closest to the divide. When using SVC, we want our data points to be as far away from the hyperplane as possible as the farther away from the hyperplane a point is, the more certain we can be of its classification."
   ]
  },
  {
   "cell_type": "markdown",
   "metadata": {},
   "source": [
    "For SVC, I created a function that tunes the algorithm, finding the best parameters for for achieving the best error rate. The best paramteres are reported below as well as the training and testing error rate. "
   ]
  },
  {
   "cell_type": "code",
   "execution_count": 18,
   "metadata": {
    "collapsed": true
   },
   "outputs": [],
   "source": [
    "#SVM\n",
    "from sklearn import svm\n",
    "from sklearn.model_selection import GridSearchCV\n"
   ]
  },
  {
   "cell_type": "code",
   "execution_count": 19,
   "metadata": {
    "collapsed": true
   },
   "outputs": [],
   "source": [
    "def svc_param_search(x, y, n):\n",
    "    Cs = [0.001, 0.01, 0.1, 10]\n",
    "    gammas = [0.001, 0.01, 0.1, 10]\n",
    "    param_grid = {'C': Cs, 'gamma': gammas}\n",
    "    svc_grid_search = GridSearchCV(svm.SVC(), param_grid, cv = n)\n",
    "    svc_grid_search.fit(x,y)\n",
    "    svc_grid_search.best_params_\n",
    "    #return svc_grid_search.cv_results_\n",
    "    return svc_grid_search.best_params_"
   ]
  },
  {
   "cell_type": "code",
   "execution_count": 20,
   "metadata": {},
   "outputs": [
    {
     "data": {
      "text/plain": [
       "{'C': 10, 'gamma': 0.001}"
      ]
     },
     "execution_count": 20,
     "metadata": {},
     "output_type": "execute_result"
    }
   ],
   "source": [
    "svc_param_search(x_train, y_train, 3)"
   ]
  },
  {
   "cell_type": "code",
   "execution_count": 21,
   "metadata": {},
   "outputs": [
    {
     "data": {
      "text/plain": [
       "0.97518546942952167"
      ]
     },
     "execution_count": 21,
     "metadata": {},
     "output_type": "execute_result"
    }
   ],
   "source": [
    "svm_model = svm.SVC(C = 10, gamma = 0.001)\n",
    "svm_model.fit(x_train, y_train)\n",
    "\n",
    "svm_model.score(x_train,y_train)"
   ]
  },
  {
   "cell_type": "code",
   "execution_count": 22,
   "metadata": {},
   "outputs": [
    {
     "data": {
      "text/plain": [
       "0.96395705521472397"
      ]
     },
     "execution_count": 22,
     "metadata": {},
     "output_type": "execute_result"
    }
   ],
   "source": [
    "svm_model.score(x_test, y_test)"
   ]
  },
  {
   "cell_type": "markdown",
   "metadata": {},
   "source": [
    "###Bernoulli Naive Bayes Classifier"
   ]
  },
  {
   "cell_type": "markdown",
   "metadata": {},
   "source": [
    "Bernoulli Naive Bayes Classifiers is a supervised learning algorithm that implements and applies Bayes Theorem with strong independence assumptions, meaning that it assumes that variables in the dataset are not related to other variables in the dataset. "
   ]
  },
  {
   "cell_type": "markdown",
   "metadata": {},
   "source": [
    "I implemented the Bernoulli Naive Bayes Classifier method below and reported the training and testing error rate. "
   ]
  },
  {
   "cell_type": "code",
   "execution_count": 23,
   "metadata": {},
   "outputs": [
    {
     "data": {
      "text/plain": [
       "0.9467894602200051"
      ]
     },
     "execution_count": 23,
     "metadata": {},
     "output_type": "execute_result"
    }
   ],
   "source": [
    "from sklearn.naive_bayes import BernoulliNB\n",
    "\n",
    "nb_model = BernoulliNB()\n",
    "nb_model.fit(x_train, y_train)\n",
    "nb_model.score(x_train, y_train)"
   ]
  },
  {
   "cell_type": "code",
   "execution_count": 24,
   "metadata": {},
   "outputs": [
    {
     "data": {
      "text/plain": [
       "0.94018404907975461"
      ]
     },
     "execution_count": 24,
     "metadata": {},
     "output_type": "execute_result"
    }
   ],
   "source": [
    "nb_model.score(x_test, y_test)"
   ]
  },
  {
   "cell_type": "markdown",
   "metadata": {},
   "source": [
    "###Random Forest"
   ]
  },
  {
   "cell_type": "markdown",
   "metadata": {},
   "source": [
    "Random Forest is a supervised learning algorithm that creates a specified number of decision trees that each get access to a random subset of the data and considers a random subset of the features(variables). This method helps create much more diveristy, resulting in more robust predicitons. For numerical predictions, an average of all the individual decision tree is taken while for classification, a \"vote\" is taken for the prediction."
   ]
  },
  {
   "cell_type": "markdown",
   "metadata": {},
   "source": [
    "I created a function that tunes the RandomForest function, searching for the parameters that yield the best error rate. "
   ]
  },
  {
   "cell_type": "code",
   "execution_count": 25,
   "metadata": {
    "collapsed": true
   },
   "outputs": [],
   "source": [
    "from sklearn.ensemble import RandomForestClassifier"
   ]
  },
  {
   "cell_type": "code",
   "execution_count": 48,
   "metadata": {
    "collapsed": true
   },
   "outputs": [],
   "source": [
    "def rf_param_search(x, y, n):\n",
    "    Estimators = [10, 20, 30 ,40, 50]\n",
    "    max_feat = [\"auto\", \"sqrt\", \"log2\", None]\n",
    "    max_dep = [4, 6, 8, 10, None]\n",
    "    \n",
    "    param_grid = {'n_estimators': Estimators, 'max_features': max_feat, 'max_depth': max_dep}\n",
    "    rf_grid_search = GridSearchCV(RandomForestClassifier(random_state = 123), param_grid, cv = n)\n",
    "    rf_grid_search.fit(x,y)\n",
    "    rf_grid_search.best_params_\n",
    "    \n",
    "    #return rf_grid_search.cv_results_\n",
    "    return rf_grid_search.best_params_"
   ]
  },
  {
   "cell_type": "code",
   "execution_count": 49,
   "metadata": {},
   "outputs": [
    {
     "data": {
      "text/plain": [
       "{'max_depth': None, 'max_features': None, 'n_estimators': 30}"
      ]
     },
     "execution_count": 49,
     "metadata": {},
     "output_type": "execute_result"
    }
   ],
   "source": [
    "rf_param_search(x_train, y_train, 3)"
   ]
  },
  {
   "cell_type": "code",
   "execution_count": 46,
   "metadata": {},
   "outputs": [
    {
     "data": {
      "text/plain": [
       "0.99974418009721155"
      ]
     },
     "execution_count": 46,
     "metadata": {},
     "output_type": "execute_result"
    }
   ],
   "source": [
    "rf_model = RandomForestClassifier(n_estimators = 30, max_features = None, max_depth= None, random_state = 123)\n",
    "rf_model.fit(x,y)\n",
    "\n",
    "rf_model.score(x_train, y_train)"
   ]
  },
  {
   "cell_type": "code",
   "execution_count": 47,
   "metadata": {},
   "outputs": [
    {
     "data": {
      "text/plain": [
       "0.99923312883435578"
      ]
     },
     "execution_count": 47,
     "metadata": {},
     "output_type": "execute_result"
    }
   ],
   "source": [
    "rf_model.score(x_test, y_test)"
   ]
  },
  {
   "cell_type": "code",
   "execution_count": 30,
   "metadata": {
    "collapsed": true
   },
   "outputs": [],
   "source": [
    "import pickle"
   ]
  },
  {
   "cell_type": "code",
   "execution_count": 31,
   "metadata": {
    "collapsed": true
   },
   "outputs": [],
   "source": [
    "pickle.dump(rf_model, open(\"nba_random_forest.sav\", 'wb'))"
   ]
  },
  {
   "cell_type": "markdown",
   "metadata": {},
   "source": [
    "##Conclusion"
   ]
  },
  {
   "cell_type": "markdown",
   "metadata": {},
   "source": [
    "In the summary table above, we can see that Random Forest algorithm yields the best correct prediction score with 99.97% for training data and 99.92% testing data. This is not surprising at all considering that random forest creates many decision trees. For this project, I considered the baseline score as the \"just say no\" percentage, which means the score I would have gotten if I had just considered every single player to not be an All-Star. That score is 4927/5213 which is 0.9451. (There are 286 All-Stars in the dataset and 5213-286 is 4927.) SVC's testing score (96.40%) was able to beat this baseline score but the Naive Bayes classifier score (94.02% )was lower than the baseline score. \n",
    "\n",
    "Our training and testing score for Random Forest was nearly 100% for both the training and testing score at 99.97% and 99.92% respectively, but the fact that it was not exactly 100% but very close to it actually indicated that the Random Forest model is a very good model. In years before 2017, where All-Star starters were still voted in based purely on fan voting, some players were still always voted in despite failing to perform up to par. A few clear examples are Kobe Bryant in 2014, 2015, and 2016 when he was often injured and clearly not playing at an All-Star level, and Yao Ming in 2011 where he only played 5 games but was still voted by a wide margin due to massive influxes of voting coming from Ming's home country, China. In these cases, players were voted in as All-Star starters due to their past achievements and massive popularity rather than their merits. A less than 100% training and testing score shows that our model is not overfitting to fit these outliers, indicating that the random forest model excelled in making the correct prediction of whether or not an NBA player was an All-Star."
   ]
  }
 ],
 "metadata": {
  "kernelspec": {
   "display_name": "Python 3",
   "language": "python",
   "name": "python3"
  },
  "language_info": {
   "codemirror_mode": {
    "name": "ipython",
    "version": 3
   },
   "file_extension": ".py",
   "mimetype": "text/x-python",
   "name": "python",
   "nbconvert_exporter": "python",
   "pygments_lexer": "ipython3",
   "version": "3.6.1"
  }
 },
 "nbformat": 4,
 "nbformat_minor": 2
}
